{
 "cells": [
  {
   "cell_type": "code",
   "execution_count": 1,
   "id": "49a00604",
   "metadata": {
    "_cell_guid": "b1076dfc-b9ad-4769-8c92-a6c4dae69d19",
    "_uuid": "8f2839f25d086af736a60e9eeb907d3b93b6e0e5",
    "execution": {
     "iopub.execute_input": "2022-01-25T15:17:55.768070Z",
     "iopub.status.busy": "2022-01-25T15:17:55.766560Z",
     "iopub.status.idle": "2022-01-25T15:17:59.866394Z",
     "shell.execute_reply": "2022-01-25T15:17:59.865797Z",
     "shell.execute_reply.started": "2022-01-25T14:44:31.375819Z"
    },
    "papermill": {
     "duration": 4.113285,
     "end_time": "2022-01-25T15:17:59.866588",
     "exception": false,
     "start_time": "2022-01-25T15:17:55.753303",
     "status": "completed"
    },
    "tags": []
   },
   "outputs": [],
   "source": [
    "import os\n",
    "import numpy as np\n",
    "import pandas as pd\n",
    "import tensorflow as tf\n",
    "import matplotlib.pyplot as plt"
   ]
  },
  {
   "cell_type": "code",
   "execution_count": 2,
   "id": "c839020d",
   "metadata": {
    "execution": {
     "iopub.execute_input": "2022-01-25T15:17:59.890777Z",
     "iopub.status.busy": "2022-01-25T15:17:59.889224Z",
     "iopub.status.idle": "2022-01-25T15:17:59.891344Z",
     "shell.execute_reply": "2022-01-25T15:17:59.891785Z",
     "shell.execute_reply.started": "2022-01-25T14:45:05.511071Z"
    },
    "papermill": {
     "duration": 0.014814,
     "end_time": "2022-01-25T15:17:59.891910",
     "exception": false,
     "start_time": "2022-01-25T15:17:59.877096",
     "status": "completed"
    },
    "tags": []
   },
   "outputs": [],
   "source": [
    "data_path = '../input/eergy-efficiency-dataset/ENB2012_data.csv'"
   ]
  },
  {
   "cell_type": "markdown",
   "id": "85cff5bf",
   "metadata": {
    "papermill": {
     "duration": 0.008245,
     "end_time": "2022-01-25T15:17:59.908682",
     "exception": false,
     "start_time": "2022-01-25T15:17:59.900437",
     "status": "completed"
    },
    "tags": []
   },
   "source": [
    "# **Load Data**"
   ]
  },
  {
   "cell_type": "code",
   "execution_count": 3,
   "id": "2f0ac7ee",
   "metadata": {
    "execution": {
     "iopub.execute_input": "2022-01-25T15:17:59.929612Z",
     "iopub.status.busy": "2022-01-25T15:17:59.928904Z",
     "iopub.status.idle": "2022-01-25T15:17:59.964763Z",
     "shell.execute_reply": "2022-01-25T15:17:59.964304Z",
     "shell.execute_reply.started": "2022-01-25T14:45:53.35637Z"
    },
    "papermill": {
     "duration": 0.047719,
     "end_time": "2022-01-25T15:17:59.964870",
     "exception": false,
     "start_time": "2022-01-25T15:17:59.917151",
     "status": "completed"
    },
    "tags": []
   },
   "outputs": [
    {
     "data": {
      "text/html": [
       "<div>\n",
       "<style scoped>\n",
       "    .dataframe tbody tr th:only-of-type {\n",
       "        vertical-align: middle;\n",
       "    }\n",
       "\n",
       "    .dataframe tbody tr th {\n",
       "        vertical-align: top;\n",
       "    }\n",
       "\n",
       "    .dataframe thead th {\n",
       "        text-align: right;\n",
       "    }\n",
       "</style>\n",
       "<table border=\"1\" class=\"dataframe\">\n",
       "  <thead>\n",
       "    <tr style=\"text-align: right;\">\n",
       "      <th></th>\n",
       "      <th>X1</th>\n",
       "      <th>X2</th>\n",
       "      <th>X3</th>\n",
       "      <th>X4</th>\n",
       "      <th>X5</th>\n",
       "      <th>X6</th>\n",
       "      <th>X7</th>\n",
       "      <th>X8</th>\n",
       "      <th>Y1</th>\n",
       "      <th>Y2</th>\n",
       "    </tr>\n",
       "  </thead>\n",
       "  <tbody>\n",
       "    <tr>\n",
       "      <th>0</th>\n",
       "      <td>0.98</td>\n",
       "      <td>514.5</td>\n",
       "      <td>294.0</td>\n",
       "      <td>110.25</td>\n",
       "      <td>7.0</td>\n",
       "      <td>2</td>\n",
       "      <td>0.0</td>\n",
       "      <td>0</td>\n",
       "      <td>15.55</td>\n",
       "      <td>21.33</td>\n",
       "    </tr>\n",
       "    <tr>\n",
       "      <th>1</th>\n",
       "      <td>0.98</td>\n",
       "      <td>514.5</td>\n",
       "      <td>294.0</td>\n",
       "      <td>110.25</td>\n",
       "      <td>7.0</td>\n",
       "      <td>3</td>\n",
       "      <td>0.0</td>\n",
       "      <td>0</td>\n",
       "      <td>15.55</td>\n",
       "      <td>21.33</td>\n",
       "    </tr>\n",
       "    <tr>\n",
       "      <th>2</th>\n",
       "      <td>0.98</td>\n",
       "      <td>514.5</td>\n",
       "      <td>294.0</td>\n",
       "      <td>110.25</td>\n",
       "      <td>7.0</td>\n",
       "      <td>4</td>\n",
       "      <td>0.0</td>\n",
       "      <td>0</td>\n",
       "      <td>15.55</td>\n",
       "      <td>21.33</td>\n",
       "    </tr>\n",
       "    <tr>\n",
       "      <th>3</th>\n",
       "      <td>0.98</td>\n",
       "      <td>514.5</td>\n",
       "      <td>294.0</td>\n",
       "      <td>110.25</td>\n",
       "      <td>7.0</td>\n",
       "      <td>5</td>\n",
       "      <td>0.0</td>\n",
       "      <td>0</td>\n",
       "      <td>15.55</td>\n",
       "      <td>21.33</td>\n",
       "    </tr>\n",
       "    <tr>\n",
       "      <th>4</th>\n",
       "      <td>0.90</td>\n",
       "      <td>563.5</td>\n",
       "      <td>318.5</td>\n",
       "      <td>122.50</td>\n",
       "      <td>7.0</td>\n",
       "      <td>2</td>\n",
       "      <td>0.0</td>\n",
       "      <td>0</td>\n",
       "      <td>20.84</td>\n",
       "      <td>28.28</td>\n",
       "    </tr>\n",
       "  </tbody>\n",
       "</table>\n",
       "</div>"
      ],
      "text/plain": [
       "     X1     X2     X3      X4   X5  X6   X7  X8     Y1     Y2\n",
       "0  0.98  514.5  294.0  110.25  7.0   2  0.0   0  15.55  21.33\n",
       "1  0.98  514.5  294.0  110.25  7.0   3  0.0   0  15.55  21.33\n",
       "2  0.98  514.5  294.0  110.25  7.0   4  0.0   0  15.55  21.33\n",
       "3  0.98  514.5  294.0  110.25  7.0   5  0.0   0  15.55  21.33\n",
       "4  0.90  563.5  318.5  122.50  7.0   2  0.0   0  20.84  28.28"
      ]
     },
     "execution_count": 3,
     "metadata": {},
     "output_type": "execute_result"
    }
   ],
   "source": [
    "df = pd.read_csv(data_path)\n",
    "df.head()"
   ]
  },
  {
   "cell_type": "code",
   "execution_count": 4,
   "id": "5de58cd8",
   "metadata": {
    "execution": {
     "iopub.execute_input": "2022-01-25T15:17:59.990966Z",
     "iopub.status.busy": "2022-01-25T15:17:59.984523Z",
     "iopub.status.idle": "2022-01-25T15:17:59.993947Z",
     "shell.execute_reply": "2022-01-25T15:17:59.993537Z",
     "shell.execute_reply.started": "2022-01-25T14:45:57.90144Z"
    },
    "papermill": {
     "duration": 0.020242,
     "end_time": "2022-01-25T15:17:59.994051",
     "exception": false,
     "start_time": "2022-01-25T15:17:59.973809",
     "status": "completed"
    },
    "tags": []
   },
   "outputs": [
    {
     "data": {
      "text/plain": [
       "X1    768\n",
       "X2    768\n",
       "X3    768\n",
       "X4    768\n",
       "X5    768\n",
       "X6    768\n",
       "X7    768\n",
       "X8    768\n",
       "Y1    768\n",
       "Y2    768\n",
       "dtype: int64"
      ]
     },
     "execution_count": 4,
     "metadata": {},
     "output_type": "execute_result"
    }
   ],
   "source": [
    "df.count()"
   ]
  },
  {
   "cell_type": "code",
   "execution_count": 5,
   "id": "a9bad20c",
   "metadata": {
    "execution": {
     "iopub.execute_input": "2022-01-25T15:18:00.022215Z",
     "iopub.status.busy": "2022-01-25T15:18:00.021713Z",
     "iopub.status.idle": "2022-01-25T15:18:00.025274Z",
     "shell.execute_reply": "2022-01-25T15:18:00.024848Z",
     "shell.execute_reply.started": "2022-01-25T14:59:43.850992Z"
    },
    "papermill": {
     "duration": 0.022558,
     "end_time": "2022-01-25T15:18:00.025372",
     "exception": false,
     "start_time": "2022-01-25T15:18:00.002814",
     "status": "completed"
    },
    "tags": []
   },
   "outputs": [],
   "source": [
    "df_columns = df.columns.values\n",
    "Xcolumns = [col for col in df_columns if 'X' in col]\n",
    "Ycolumns = [col for col in df_columns if 'Y' in col]\n",
    "\n",
    "X = df[Xcolumns].values\n",
    "Y = df[Ycolumns].values"
   ]
  },
  {
   "cell_type": "code",
   "execution_count": 6,
   "id": "f8ad22a4",
   "metadata": {
    "execution": {
     "iopub.execute_input": "2022-01-25T15:18:00.047257Z",
     "iopub.status.busy": "2022-01-25T15:18:00.046439Z",
     "iopub.status.idle": "2022-01-25T15:18:00.050674Z",
     "shell.execute_reply": "2022-01-25T15:18:00.050247Z",
     "shell.execute_reply.started": "2022-01-25T15:00:20.204019Z"
    },
    "papermill": {
     "duration": 0.016677,
     "end_time": "2022-01-25T15:18:00.050780",
     "exception": false,
     "start_time": "2022-01-25T15:18:00.034103",
     "status": "completed"
    },
    "tags": []
   },
   "outputs": [
    {
     "name": "stdout",
     "output_type": "stream",
     "text": [
      "X.shape : (768, 8)\n",
      "Y.shape : (768, 2)\n"
     ]
    }
   ],
   "source": [
    "print('X.shape : {}'.format(X.shape))\n",
    "print('Y.shape : {}'.format(Y.shape))"
   ]
  },
  {
   "cell_type": "markdown",
   "id": "a6443758",
   "metadata": {
    "papermill": {
     "duration": 0.008851,
     "end_time": "2022-01-25T15:18:00.068700",
     "exception": false,
     "start_time": "2022-01-25T15:18:00.059849",
     "status": "completed"
    },
    "tags": []
   },
   "source": [
    "# **Create Model**"
   ]
  },
  {
   "cell_type": "code",
   "execution_count": 7,
   "id": "36921da3",
   "metadata": {
    "execution": {
     "iopub.execute_input": "2022-01-25T15:18:00.223541Z",
     "iopub.status.busy": "2022-01-25T15:18:00.222930Z",
     "iopub.status.idle": "2022-01-25T15:18:01.108399Z",
     "shell.execute_reply": "2022-01-25T15:18:01.107929Z",
     "shell.execute_reply.started": "2022-01-25T15:11:37.166157Z"
    },
    "papermill": {
     "duration": 1.030838,
     "end_time": "2022-01-25T15:18:01.108561",
     "exception": false,
     "start_time": "2022-01-25T15:18:00.077723",
     "status": "completed"
    },
    "tags": []
   },
   "outputs": [],
   "source": [
    "inputs = tf.keras.layers.Input(shape=(8,))\n",
    "\n",
    "layer1 = tf.keras.layers.Dense(128, activation='relu')\n",
    "layer2 = tf.keras.layers.Dense(128, activation='relu')\n",
    "layer3 = tf.keras.layers.Dense(64, activation='relu')\n",
    "\n",
    "output_layer1 = tf.keras.layers.Dense(1)\n",
    "output_layer2 = tf.keras.layers.Dense(1)"
   ]
  },
  {
   "cell_type": "code",
   "execution_count": 8,
   "id": "93477401",
   "metadata": {
    "execution": {
     "iopub.execute_input": "2022-01-25T15:18:01.134098Z",
     "iopub.status.busy": "2022-01-25T15:18:01.133446Z",
     "iopub.status.idle": "2022-01-25T15:18:03.474369Z",
     "shell.execute_reply": "2022-01-25T15:18:03.474871Z",
     "shell.execute_reply.started": "2022-01-25T15:11:37.694104Z"
    },
    "papermill": {
     "duration": 2.356734,
     "end_time": "2022-01-25T15:18:03.475024",
     "exception": false,
     "start_time": "2022-01-25T15:18:01.118290",
     "status": "completed"
    },
    "tags": []
   },
   "outputs": [
    {
     "name": "stderr",
     "output_type": "stream",
     "text": [
      "2022-01-25 15:18:01.187136: I tensorflow/stream_executor/cuda/cuda_gpu_executor.cc:937] successful NUMA node read from SysFS had negative value (-1), but there must be at least one NUMA node, so returning NUMA node zero\n",
      "2022-01-25 15:18:01.291099: I tensorflow/stream_executor/cuda/cuda_gpu_executor.cc:937] successful NUMA node read from SysFS had negative value (-1), but there must be at least one NUMA node, so returning NUMA node zero\n",
      "2022-01-25 15:18:01.291940: I tensorflow/stream_executor/cuda/cuda_gpu_executor.cc:937] successful NUMA node read from SysFS had negative value (-1), but there must be at least one NUMA node, so returning NUMA node zero\n",
      "2022-01-25 15:18:01.294042: I tensorflow/core/platform/cpu_feature_guard.cc:142] This TensorFlow binary is optimized with oneAPI Deep Neural Network Library (oneDNN) to use the following CPU instructions in performance-critical operations:  AVX2 AVX512F FMA\n",
      "To enable them in other operations, rebuild TensorFlow with the appropriate compiler flags.\n",
      "2022-01-25 15:18:01.295136: I tensorflow/stream_executor/cuda/cuda_gpu_executor.cc:937] successful NUMA node read from SysFS had negative value (-1), but there must be at least one NUMA node, so returning NUMA node zero\n",
      "2022-01-25 15:18:01.295922: I tensorflow/stream_executor/cuda/cuda_gpu_executor.cc:937] successful NUMA node read from SysFS had negative value (-1), but there must be at least one NUMA node, so returning NUMA node zero\n",
      "2022-01-25 15:18:01.296652: I tensorflow/stream_executor/cuda/cuda_gpu_executor.cc:937] successful NUMA node read from SysFS had negative value (-1), but there must be at least one NUMA node, so returning NUMA node zero\n",
      "2022-01-25 15:18:03.116640: I tensorflow/stream_executor/cuda/cuda_gpu_executor.cc:937] successful NUMA node read from SysFS had negative value (-1), but there must be at least one NUMA node, so returning NUMA node zero\n",
      "2022-01-25 15:18:03.117425: I tensorflow/stream_executor/cuda/cuda_gpu_executor.cc:937] successful NUMA node read from SysFS had negative value (-1), but there must be at least one NUMA node, so returning NUMA node zero\n",
      "2022-01-25 15:18:03.118111: I tensorflow/stream_executor/cuda/cuda_gpu_executor.cc:937] successful NUMA node read from SysFS had negative value (-1), but there must be at least one NUMA node, so returning NUMA node zero\n",
      "2022-01-25 15:18:03.118730: I tensorflow/core/common_runtime/gpu/gpu_device.cc:1510] Created device /job:localhost/replica:0/task:0/device:GPU:0 with 15403 MB memory:  -> device: 0, name: Tesla P100-PCIE-16GB, pci bus id: 0000:00:04.0, compute capability: 6.0\n"
     ]
    }
   ],
   "source": [
    "x1 = layer1(inputs)\n",
    "x2 = layer2(x1)\n",
    "y1 = output_layer1(x2)\n",
    "\n",
    "x3 = layer3(x2)\n",
    "y2 = output_layer2(x3)\n",
    "\n",
    "model = tf.keras.models.Model(\n",
    "                        inputs=inputs, \n",
    "                        outputs=[y1, y2]\n",
    "                        )"
   ]
  },
  {
   "cell_type": "code",
   "execution_count": 9,
   "id": "44fbbf59",
   "metadata": {
    "execution": {
     "iopub.execute_input": "2022-01-25T15:18:03.503800Z",
     "iopub.status.busy": "2022-01-25T15:18:03.502989Z",
     "iopub.status.idle": "2022-01-25T15:18:06.633933Z",
     "shell.execute_reply": "2022-01-25T15:18:06.633436Z",
     "shell.execute_reply.started": "2022-01-25T15:13:50.961906Z"
    },
    "papermill": {
     "duration": 3.149151,
     "end_time": "2022-01-25T15:18:06.634057",
     "exception": false,
     "start_time": "2022-01-25T15:18:03.484906",
     "status": "completed"
    },
    "tags": []
   },
   "outputs": [
    {
     "name": "stderr",
     "output_type": "stream",
     "text": [
      "2022-01-25 15:18:03.567728: I tensorflow/compiler/mlir/mlir_graph_optimization_pass.cc:185] None of the MLIR Optimization Passes are enabled (registered 2)\n"
     ]
    },
    {
     "name": "stdout",
     "output_type": "stream",
     "text": [
      "Epoch 1/30\n",
      "24/24 [==============================] - 1s 3ms/step - loss: 378.7041 - dense_3_loss: 81.3060 - dense_4_loss: 297.3981\n",
      "Epoch 2/30\n",
      "24/24 [==============================] - 0s 2ms/step - loss: 76.3696 - dense_3_loss: 33.4558 - dense_4_loss: 42.9137\n",
      "Epoch 3/30\n",
      "24/24 [==============================] - 0s 2ms/step - loss: 68.9037 - dense_3_loss: 36.4547 - dense_4_loss: 32.4490\n",
      "Epoch 4/30\n",
      "24/24 [==============================] - 0s 2ms/step - loss: 58.5496 - dense_3_loss: 30.0555 - dense_4_loss: 28.4941\n",
      "Epoch 5/30\n",
      "24/24 [==============================] - 0s 2ms/step - loss: 58.3517 - dense_3_loss: 30.2102 - dense_4_loss: 28.1414\n",
      "Epoch 6/30\n",
      "24/24 [==============================] - 0s 2ms/step - loss: 52.6283 - dense_3_loss: 25.5090 - dense_4_loss: 27.1193\n",
      "Epoch 7/30\n",
      "24/24 [==============================] - 0s 2ms/step - loss: 55.0539 - dense_3_loss: 27.5240 - dense_4_loss: 27.5299\n",
      "Epoch 8/30\n",
      "24/24 [==============================] - 0s 2ms/step - loss: 63.2601 - dense_3_loss: 34.8088 - dense_4_loss: 28.4513\n",
      "Epoch 9/30\n",
      "24/24 [==============================] - 0s 2ms/step - loss: 60.0250 - dense_3_loss: 34.4305 - dense_4_loss: 25.5945\n",
      "Epoch 10/30\n",
      "24/24 [==============================] - 0s 2ms/step - loss: 48.7699 - dense_3_loss: 26.1289 - dense_4_loss: 22.6410\n",
      "Epoch 11/30\n",
      "24/24 [==============================] - 0s 2ms/step - loss: 46.2306 - dense_3_loss: 24.2646 - dense_4_loss: 21.9660\n",
      "Epoch 12/30\n",
      "24/24 [==============================] - 0s 2ms/step - loss: 42.0952 - dense_3_loss: 21.0029 - dense_4_loss: 21.0923\n",
      "Epoch 13/30\n",
      "24/24 [==============================] - 0s 2ms/step - loss: 42.6473 - dense_3_loss: 21.9345 - dense_4_loss: 20.7129\n",
      "Epoch 14/30\n",
      "24/24 [==============================] - 0s 2ms/step - loss: 40.1728 - dense_3_loss: 20.2616 - dense_4_loss: 19.9111\n",
      "Epoch 15/30\n",
      "24/24 [==============================] - 0s 2ms/step - loss: 38.2893 - dense_3_loss: 20.1506 - dense_4_loss: 18.1387\n",
      "Epoch 16/30\n",
      "24/24 [==============================] - 0s 2ms/step - loss: 36.2386 - dense_3_loss: 18.7894 - dense_4_loss: 17.4491\n",
      "Epoch 17/30\n",
      "24/24 [==============================] - 0s 2ms/step - loss: 39.6823 - dense_3_loss: 19.9597 - dense_4_loss: 19.7226\n",
      "Epoch 18/30\n",
      "24/24 [==============================] - 0s 2ms/step - loss: 37.6399 - dense_3_loss: 20.6857 - dense_4_loss: 16.9542\n",
      "Epoch 19/30\n",
      "24/24 [==============================] - 0s 2ms/step - loss: 37.4310 - dense_3_loss: 20.6604 - dense_4_loss: 16.7706\n",
      "Epoch 20/30\n",
      "24/24 [==============================] - 0s 2ms/step - loss: 32.0366 - dense_3_loss: 16.9542 - dense_4_loss: 15.0824\n",
      "Epoch 21/30\n",
      "24/24 [==============================] - 0s 2ms/step - loss: 29.5772 - dense_3_loss: 15.0006 - dense_4_loss: 14.5767\n",
      "Epoch 22/30\n",
      "24/24 [==============================] - 0s 2ms/step - loss: 29.1464 - dense_3_loss: 15.8811 - dense_4_loss: 13.2653\n",
      "Epoch 23/30\n",
      "24/24 [==============================] - 0s 2ms/step - loss: 29.3322 - dense_3_loss: 15.6263 - dense_4_loss: 13.7058\n",
      "Epoch 24/30\n",
      "24/24 [==============================] - 0s 2ms/step - loss: 28.4032 - dense_3_loss: 14.7810 - dense_4_loss: 13.6222\n",
      "Epoch 25/30\n",
      "24/24 [==============================] - 0s 2ms/step - loss: 43.2470 - dense_3_loss: 24.5552 - dense_4_loss: 18.6918\n",
      "Epoch 26/30\n",
      "24/24 [==============================] - 0s 2ms/step - loss: 37.2603 - dense_3_loss: 20.9677 - dense_4_loss: 16.2925\n",
      "Epoch 27/30\n",
      "24/24 [==============================] - 0s 2ms/step - loss: 27.8033 - dense_3_loss: 14.1351 - dense_4_loss: 13.6682\n",
      "Epoch 28/30\n",
      "24/24 [==============================] - 0s 2ms/step - loss: 31.2895 - dense_3_loss: 17.4327 - dense_4_loss: 13.8568\n",
      "Epoch 29/30\n",
      "24/24 [==============================] - 0s 2ms/step - loss: 28.4128 - dense_3_loss: 15.0102 - dense_4_loss: 13.4026\n",
      "Epoch 30/30\n",
      "24/24 [==============================] - 0s 2ms/step - loss: 28.6984 - dense_3_loss: 15.8690 - dense_4_loss: 12.8294\n"
     ]
    },
    {
     "data": {
      "text/plain": [
       "<keras.callbacks.History at 0x7f1565dd42d0>"
      ]
     },
     "execution_count": 9,
     "metadata": {},
     "output_type": "execute_result"
    }
   ],
   "source": [
    "Y1 = Y[:,0]\n",
    "Y2 = Y[:,1]\n",
    "\n",
    "model.compile(\n",
    "            optimizer = 'adam',\n",
    "            loss = 'mse'\n",
    "            )\n",
    "\n",
    "model.fit(X, [Y1, Y2], batch_size = 32, epochs = 30)"
   ]
  },
  {
   "cell_type": "code",
   "execution_count": null,
   "id": "5f1fedad",
   "metadata": {
    "papermill": {
     "duration": 0.027099,
     "end_time": "2022-01-25T15:18:06.687903",
     "exception": false,
     "start_time": "2022-01-25T15:18:06.660804",
     "status": "completed"
    },
    "tags": []
   },
   "outputs": [],
   "source": []
  }
 ],
 "metadata": {
  "kernelspec": {
   "display_name": "Python 3",
   "language": "python",
   "name": "python3"
  },
  "language_info": {
   "codemirror_mode": {
    "name": "ipython",
    "version": 3
   },
   "file_extension": ".py",
   "mimetype": "text/x-python",
   "name": "python",
   "nbconvert_exporter": "python",
   "pygments_lexer": "ipython3",
   "version": "3.7.12"
  },
  "papermill": {
   "default_parameters": {},
   "duration": 22.391076,
   "end_time": "2022-01-25T15:18:10.047022",
   "environment_variables": {},
   "exception": null,
   "input_path": "__notebook__.ipynb",
   "output_path": "__notebook__.ipynb",
   "parameters": {},
   "start_time": "2022-01-25T15:17:47.655946",
   "version": "2.3.3"
  }
 },
 "nbformat": 4,
 "nbformat_minor": 5
}
